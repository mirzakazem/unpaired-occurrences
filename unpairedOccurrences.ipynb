{
  "nbformat": 4,
  "nbformat_minor": 0,
  "metadata": {
    "colab": {
      "name": "unpairedOccurrences.ipynb",
      "provenance": [],
      "authorship_tag": "ABX9TyNbuqiuX6W8hRxCl0/448yz",
      "include_colab_link": true
    },
    "kernelspec": {
      "name": "python3",
      "display_name": "Python 3"
    }
  },
  "cells": [
    {
      "cell_type": "markdown",
      "metadata": {
        "id": "view-in-github",
        "colab_type": "text"
      },
      "source": [
        "<a href=\"https://colab.research.google.com/github/mirzakazem/unpaired-occurrences/blob/main/unpairedOccurrences.ipynb\" target=\"_parent\"><img src=\"https://colab.research.google.com/assets/colab-badge.svg\" alt=\"Open In Colab\"/></a>"
      ]
    },
    {
      "cell_type": "markdown",
      "metadata": {
        "id": "geV5UlvnIs7A"
      },
      "source": [
        "A non-empty array A consisting of N integers is given. The array contains an odd number of elements, and each element of the array can be paired with another element that has the same value, except for one element that is left unpaired.\n",
        "\n",
        "For example, in array A such that:\n",
        "\n",
        "  A[0] = 9  A[1] = 3  A[2] = 9\n",
        "  A[3] = 3  A[4] = 9  A[5] = 7\n",
        "  A[6] = 9\n",
        "the elements at indexes 0 and 2 have value 9,\n",
        "the elements at indexes 1 and 3 have value 3,\n",
        "the elements at indexes 4 and 6 have value 9,\n",
        "the element at index 5 has value 7 and is unpaired.\n",
        "Write a function:\n",
        "\n",
        "def solution(A)\n",
        "\n",
        "that, given an array A consisting of N integers fulfilling the above conditions, returns the value of the unpaired element.\n",
        "\n",
        "For example, given array A such that:\n",
        "\n",
        "  A[0] = 9  A[1] = 3  A[2] = 9\n",
        "  A[3] = 3  A[4] = 9  A[5] = 7\n",
        "  A[6] = 9\n",
        "the function should return 7, as explained in the example above."
      ]
    },
    {
      "cell_type": "code",
      "metadata": {
        "id": "7-E6Bbjg85Zo",
        "outputId": "5ef7add3-0b89-45ae-ffa7-7e7360bcbbcc",
        "colab": {
          "base_uri": "https://localhost:8080/",
          "height": 34
        }
      },
      "source": [
        "def solution(A):\n",
        "  bag=set()\n",
        "  for i in range(len(A)):\n",
        "    if A[i] not in bag:\n",
        "      bag.add(A[i])\n",
        "    else:\n",
        "      bag.remove(A[i])\n",
        "  bag=list(bag)\n",
        "  return bag[0]\n",
        "\n",
        "\n",
        "\n",
        "A=[9,3,9,3,9,9,7]\n",
        "print(solution(A))"
      ],
      "execution_count": null,
      "outputs": [
        {
          "output_type": "stream",
          "text": [
            "7\n"
          ],
          "name": "stdout"
        }
      ]
    }
  ]
}